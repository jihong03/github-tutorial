import matplotlib.pyplot as plt
import numpy as np

x = np.arange(0, 61, 5)

d_sp = int(input("개냥이의 시간당 이동 거리 : "))
f_sp = int(input("뚱냥이의 시간당 이동 거리 : "))
h_sp = int(input("현주의 시간당 이동 거리 :"))


dog_cat = (d_sp/60) * x
fat_cat = (f_sp/60) * x
hyuenju = (h_sp/60) * x

plt.plot(x, dog_cat, 'r--', label = 'dog_cat')
plt.plot(x, hyuenju, 'bo-', label = 'hyuenju')
plt.plot(x, fat_cat, 'g*-', label = 'fat_cat')

plt.xlabel('time')
plt.ylabel('distance')
plt.legend()
plt.show()
